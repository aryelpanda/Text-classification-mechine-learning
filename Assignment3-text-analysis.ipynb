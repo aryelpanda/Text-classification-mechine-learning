{
 "cells": [
  {
   "cell_type": "markdown",
   "metadata": {},
   "source": [
    "# Assignment 3 - Text Analysis\n",
    "An explanation this assignment could be found in the .pdf explanation document"
   ]
  },
  {
   "cell_type": "markdown",
   "metadata": {},
   "source": [
    "\n",
    "## Materials to review for this assignment\n",
    "<h4>From Moodle:</h4> \n",
    "<h5><u>Review the notebooks regarding the following python topics</u>:</h5>\n",
    "<div class=\"alert alert-info\">\n",
    "&#x2714; <b>Working with strings</b> (tutorial notebook)<br/>\n",
    "&#x2714; <b>Text Analysis</b> (tutorial notebook)<br/>\n",
    "&#x2714; <b>Hebrew text analysis tools (tokenizer, wordnet)</b> (moodle example)<br/>\n",
    "&#x2714; <b>(brief review) All previous notebooks</b><br/>\n",
    "</div> \n",
    "<h5><u>Review the presentations regarding the following topics</u>:</h5>\n",
    "<div class=\"alert alert-info\">\n",
    "&#x2714; <b>Text Analysis</b> (lecture presentation)<br/>\n",
    "&#x2714; <b>(brief review) All other presentations</b><br/>\n",
    "</div>"
   ]
  },
  {
   "cell_type": "markdown",
   "metadata": {},
   "source": [
    "## Personal Details:"
   ]
  },
  {
   "cell_type": "code",
   "execution_count": 1,
   "metadata": {},
   "outputs": [],
   "source": [
    "# Details Student 1:\n",
    "#Ariel Reshef 327213906 \n",
    "#aryelpanda@gmail.com\n",
    "\n"
   ]
  },
  {
   "cell_type": "markdown",
   "metadata": {},
   "source": [
    "## Preceding Step - import modules (packages)\n",
    "This step is necessary in order to use external modules (packages). <br/>"
   ]
  },
  {
   "cell_type": "code",
   "execution_count": 10,
   "metadata": {},
   "outputs": [],
   "source": [
    "import pandas as pd\n",
    "import numpy as np\n",
    "import seaborn as sns\n",
    "import matplotlib.pyplot as plt\n",
    "from matplotlib.colors import ListedColormap\n",
    "import sklearn\n",
    "from sklearn import preprocessing, metrics, pipeline, model_selection, feature_extraction \n",
    "from sklearn import naive_bayes, linear_model, svm, neural_network, neighbors, tree\n",
    "from sklearn import decomposition, cluster\n",
    "from sklearn.model_selection import train_test_split, cross_val_score, GridSearchCV \n",
    "from sklearn.pipeline import Pipeline\n",
    "from sklearn.metrics import accuracy_score, confusion_matrix\n",
    "from sklearn.metrics import precision_score, recall_score, f1_score\n",
    "from sklearn.metrics import mean_squared_error, r2_score, silhouette_score\n",
    "from sklearn.preprocessing import MinMaxScaler, StandardScaler, LabelEncoder\n",
    "from sklearn.svm import LinearSVC\n",
    "from sklearn.neural_network import MLPClassifier\n",
    "from sklearn.linear_model import Perceptron, SGDClassifier\n",
    "from sklearn.decomposition import PCA\n",
    "from sklearn.cluster import KMeans\n",
    "from sklearn.naive_bayes import MultinomialNB, GaussianNB\n",
    "from sklearn.neighbors import KNeighborsClassifier\n",
    "from sklearn.tree import DecisionTreeClassifier\n",
    "\n",
    "import warnings\n",
    "from sklearn.exceptions import ConvergenceWarning\n",
    "warnings.simplefilter(\"ignore\")\n",
    "warnings.simplefilter(action='ignore', category=FutureWarning)\n",
    "warnings.simplefilter(\"ignore\", category=ConvergenceWarning)\n",
    "\n",
    "from IPython.core.interactiveshell import InteractiveShell\n",
    "InteractiveShell.ast_node_interactivity = \"all\"\n",
    "%matplotlib inline\n",
    "pd.pandas.set_option('display.max_columns', None)\n",
    "pd.set_option('display.float_format', lambda x: '%.3f' % x)\n",
    "\n",
    "# --------------------------------------\n",
    "# imports:\n",
    "from sklearn.feature_extraction import text\n",
    "from sklearn.feature_extraction.text import CountVectorizer, TfidfVectorizer\n",
    "import re\n",
    "import string\n",
    "from nltk.tokenize import word_tokenize\n",
    "from nltk.corpus import stopwords\n",
    "from nltk.stem import PorterStemmer\n",
    "from sklearn.feature_extraction.text import ENGLISH_STOP_WORDS\n",
    "from sklearn.feature_extraction.text import CountVectorizer\n",
    "\n",
    "from sklearn.feature_extraction.text import ENGLISH_STOP_WORDS\n",
    "from sklearn.feature_extraction.text import CountVectorizer"
   ]
  },
  {
   "cell_type": "markdown",
   "metadata": {},
   "source": [
    "### Your implementation:\n",
    "Write your code solution in the following code-cells"
   ]
  },
  {
   "cell_type": "code",
   "execution_count": null,
   "metadata": {},
   "outputs": [],
   "source": []
  },
  {
   "cell_type": "code",
   "execution_count": 11,
   "metadata": {},
   "outputs": [
    {
     "name": "stdout",
     "output_type": "stream",
     "text": [
      "Best alpha value: 0.1\n",
      "Best F1 score: 0.5804759006804121\n"
     ]
    },
    {
     "data": {
      "text/plain": [
       "MultinomialNB(alpha=1e-05)"
      ]
     },
     "execution_count": 11,
     "metadata": {},
     "output_type": "execute_result"
    },
    {
     "name": "stdout",
     "output_type": "stream",
     "text": [
      "Alpha: 1e-05, F1 Score: 0.4769607843137255\n"
     ]
    },
    {
     "data": {
      "text/plain": [
       "MultinomialNB(alpha=0.0001)"
      ]
     },
     "execution_count": 11,
     "metadata": {},
     "output_type": "execute_result"
    },
    {
     "name": "stdout",
     "output_type": "stream",
     "text": [
      "Alpha: 0.0001, F1 Score: 0.4769607843137255\n"
     ]
    },
    {
     "data": {
      "text/plain": [
       "MultinomialNB(alpha=0.001)"
      ]
     },
     "execution_count": 11,
     "metadata": {},
     "output_type": "execute_result"
    },
    {
     "name": "stdout",
     "output_type": "stream",
     "text": [
      "Alpha: 0.001, F1 Score: 0.4769607843137255\n"
     ]
    },
    {
     "data": {
      "text/plain": [
       "MultinomialNB(alpha=0.01)"
      ]
     },
     "execution_count": 11,
     "metadata": {},
     "output_type": "execute_result"
    },
    {
     "name": "stdout",
     "output_type": "stream",
     "text": [
      "Alpha: 0.01, F1 Score: 0.6148380355276907\n"
     ]
    },
    {
     "data": {
      "text/plain": [
       "MultinomialNB(alpha=1)"
      ]
     },
     "execution_count": 11,
     "metadata": {},
     "output_type": "execute_result"
    },
    {
     "name": "stdout",
     "output_type": "stream",
     "text": [
      "Alpha: 1, F1 Score: 0.4769607843137255\n"
     ]
    },
    {
     "data": {
      "text/plain": [
       "MultinomialNB(alpha=10)"
      ]
     },
     "execution_count": 11,
     "metadata": {},
     "output_type": "execute_result"
    },
    {
     "name": "stdout",
     "output_type": "stream",
     "text": [
      "Alpha: 10, F1 Score: 0.4327485380116959\n"
     ]
    },
    {
     "data": {
      "text/plain": [
       "MultinomialNB(alpha=100)"
      ]
     },
     "execution_count": 11,
     "metadata": {},
     "output_type": "execute_result"
    },
    {
     "name": "stdout",
     "output_type": "stream",
     "text": [
      "Alpha: 100, F1 Score: 0.4327485380116959\n"
     ]
    },
    {
     "data": {
      "text/plain": [
       "MultinomialNB(alpha=1000)"
      ]
     },
     "execution_count": 11,
     "metadata": {},
     "output_type": "execute_result"
    },
    {
     "name": "stdout",
     "output_type": "stream",
     "text": [
      "Alpha: 1000, F1 Score: 0.4327485380116959\n"
     ]
    },
    {
     "data": {
      "text/plain": [
       "MultinomialNB(alpha=10000)"
      ]
     },
     "execution_count": 11,
     "metadata": {},
     "output_type": "execute_result"
    },
    {
     "name": "stdout",
     "output_type": "stream",
     "text": [
      "Alpha: 10000, F1 Score: 0.4327485380116959\n"
     ]
    },
    {
     "data": {
      "text/plain": [
       "MultinomialNB(alpha=100000)"
      ]
     },
     "execution_count": 11,
     "metadata": {},
     "output_type": "execute_result"
    },
    {
     "name": "stdout",
     "output_type": "stream",
     "text": [
      "Alpha: 100000, F1 Score: 0.4327485380116959\n"
     ]
    }
   ],
   "source": [
    "# Function to find the best alpha value for Multinomial Naive Bayes\n",
    "def find_best_alpha(X_train, y_train, cv=10):\n",
    "    alphas = [0.00001, 0.0001, 0.001, 0.01, 0.1, 1, 10, 100, 1000, 10000, 100000]\n",
    "    param_grid = {'alpha': alphas}\n",
    "\n",
    "    model = MultinomialNB()\n",
    "\n",
    "    # Use GridSearchCV to find the best alpha value\n",
    "    grid_search = GridSearchCV(model, param_grid, cv=cv, scoring='f1_macro')\n",
    "    grid_search.fit(X_train, y_train)\n",
    "\n",
    "    return grid_search.best_params_, grid_search.best_score_\n",
    "\n",
    "# Split the training set into training and validation sets\n",
    "X_train, X_val, y_train, y_val = train_test_split(X_train, y_train, test_size=0.2, random_state=42)\n",
    "\n",
    "# Find the best alpha value using the function\n",
    "best_params, best_score = find_best_alpha(X_train, y_train)\n",
    "\n",
    "# Print the best alpha value and the corresponding best F1 score\n",
    "print(\"Best alpha value:\", best_params['alpha'])\n",
    "print(\"Best F1 score:\", best_score)\n",
    "\n",
    "# Find the second best and third best alpha values and their corresponding F1 scores\n",
    "alphas = [alpha for alpha in [0.00001, 0.0001, 0.001, 0.01, 0.1, 1, 10, 100, 1000, 10000, 100000] if alpha != best_params['alpha']]\n",
    "\n",
    "for alpha in alphas:\n",
    "    model = MultinomialNB(alpha=alpha)\n",
    "    model.fit(X_train, y_train)\n",
    "    f1_score_val = f1_score(y_val, model.predict(X_val), average='macro')\n",
    "    print(f\"Alpha: {alpha}, F1 Score: {f1_score_val}\")\n"
   ]
  },
  {
   "cell_type": "code",
   "execution_count": 12,
   "metadata": {},
   "outputs": [],
   "source": [
    "#Load the datasets\n",
    "train_filename = 'C:\\\\Users\\\\aryel\\\\annotated_corpus_for_train.csv'\n",
    "test_filename = 'C:\\\\Users\\\\aryel\\\\corpus_for_test.csv'\n",
    "\n",
    "df_train = pd.read_csv(train_filename, index_col=None, encoding='utf-8')\n",
    "df_test = pd.read_csv(test_filename, index_col=None, encoding='utf-8')"
   ]
  },
  {
   "cell_type": "code",
   "execution_count": 13,
   "metadata": {},
   "outputs": [],
   "source": [
    "\n",
    "\n",
    "# Text Preprocessing\n",
    "def preprocess_text(text):\n",
    "    # Remove punctuation\n",
    "    text = re.sub(f\"[{re.escape(string.punctuation)}]\", '', text)\n",
    "    \n",
    "    # Tokenization\n",
    "    tokens = text.split()\n",
    "    \n",
    "    # Remove stopwords using sklearn's ENGLISH_STOP_WORDS\n",
    "    tokens = [word for word in tokens if word.lower() not in ENGLISH_STOP_WORDS]\n",
    "    \n",
    "    \n",
    "    return ' '.join(tokens)  # Return without stemming\n",
    "\n",
    "# Apply text preprocessing to the \"story\" column in both train and test DataFrames\n",
    "df_train['story'] = df_train['story'].apply(preprocess_text)\n",
    "df_test['story'] = df_test['story'].apply(preprocess_text)\n"
   ]
  },
  {
   "cell_type": "code",
   "execution_count": 14,
   "metadata": {},
   "outputs": [
    {
     "data": {
      "text/plain": [
       "MultinomialNB(alpha=0.1)"
      ]
     },
     "execution_count": 14,
     "metadata": {},
     "output_type": "execute_result"
    },
    {
     "data": {
      "text/plain": [
       "KNeighborsClassifier(n_neighbors=4)"
      ]
     },
     "execution_count": 14,
     "metadata": {},
     "output_type": "execute_result"
    },
    {
     "name": "stdout",
     "output_type": "stream",
     "text": [
      "Results for Naive Bayes:\n",
      "F1 Score (Validation): 0.6715888278388278\n",
      "Average F1 Score (Cross-Validation): 0.632895099837586\n",
      "F1 Score (Training): 0.9976903273826652\n",
      "\n",
      "Results for K-Nearest Neighbors:\n",
      "F1 Score (Validation): 0.49180093089867527\n",
      "Average F1 Score (Cross-Validation): 0.5710455608531197\n",
      "F1 Score (Training): 0.7733385791462016\n"
     ]
    }
   ],
   "source": [
    "\n",
    "# Build feature vectors for the training data\n",
    "vectorizer = CountVectorizer(lowercase=True)\n",
    "X_train = vectorizer.fit_transform(df_train[\"story\"])\n",
    "y_train = df_train[\"gender\"]\n",
    "\n",
    "# Split the training set into training and validation sets\n",
    "X_train, X_val, y_train, y_val = train_test_split(X_train, y_train, test_size=0.2, random_state=42)\n",
    "\n",
    "# Naive Bayes model and train it on the new training set\n",
    "alpha_value = 0.1\n",
    "nb_model = MultinomialNB(alpha=alpha_value)\n",
    "nb_model.fit(X_train, y_train)\n",
    "\n",
    "# Build feature vectors for the test set\n",
    "X_test = vectorizer.transform(df_test[\"story\"])\n",
    "\n",
    "# Make predictions on the test set using Naive Bayes\n",
    "nb_test_predictions = nb_model.predict(X_test)\n",
    "\n",
    "# Calculate F1 score for the validation set with Naive Bayes\n",
    "f1_scores_val_nb = f1_score(y_val, nb_model.predict(X_val), average=None)\n",
    "f1_male_val_nb = f1_scores_val_nb[0]\n",
    "f1_female_val_nb = f1_scores_val_nb[1]\n",
    "\n",
    "# Calculate average F1 score for the validation set with Naive Bayes\n",
    "average_f1_val_nb = (f1_male_val_nb + f1_female_val_nb) / 2\n",
    "\n",
    "# Cross-validation function, 10 folds\n",
    "def custom_cross_val(classifier, X, y, cv=10):\n",
    "    f1_scores = cross_val_score(classifier, X, y, cv=cv, scoring='f1_macro')\n",
    "    return f1_scores\n",
    "\n",
    "# Calculate F1 scores using cross-validation for Naive Bayes\n",
    "cv_f1_scores_nb = custom_cross_val(nb_model, X_train, y_train, cv=10)\n",
    "average_cv_f1_nb = cv_f1_scores_nb.mean()\n",
    "\n",
    "# Calculate F1 score for the training set with Naive Bayes\n",
    "f1_scores_train_nb = f1_score(y_train, nb_model.predict(X_train), average=None)\n",
    "f1_male_train_nb = f1_scores_train_nb[0]\n",
    "f1_female_train_nb = f1_scores_train_nb[1]\n",
    "\n",
    "# Calculate average F1 score for the training set with Naive Bayes\n",
    "average_f1_train_nb = (f1_male_train_nb + f1_female_train_nb) / 2\n",
    "#------------------------------------------------------------------------\n",
    "\n",
    "# K-nearest neighbors model and train it on the new training set\n",
    "k =4 \n",
    "knn_model = KNeighborsClassifier(n_neighbors=k)\n",
    "knn_model.fit(X_train, y_train)\n",
    "\n",
    "# Make predictions on the test set using K-nearest neighbors\n",
    "knn_test_predictions = knn_model.predict(X_test)\n",
    "\n",
    "# Calculate F1 score for the validation set with K-nearest neighbors\n",
    "f1_scores_val_knn = f1_score(y_val, knn_model.predict(X_val), average=None)\n",
    "f1_male_val_knn = f1_scores_val_knn[0]\n",
    "f1_female_val_knn = f1_scores_val_knn[1]\n",
    "\n",
    "# Calculate average F1 score for the validation set with K-nearest neighbors\n",
    "average_f1_val_knn = (f1_male_val_knn + f1_female_val_knn) / 2\n",
    "\n",
    "# Calculate F1 scores using cross-validation for K-nearest neighbors\n",
    "cv_f1_scores_knn = custom_cross_val(knn_model, X_train, y_train, cv=10)\n",
    "average_cv_f1_knn = cv_f1_scores_knn.mean()\n",
    "\n",
    "# Calculate F1 score for the training set with K-nearest neighbors\n",
    "f1_scores_train_knn = f1_score(y_train, knn_model.predict(X_train), average=None)\n",
    "f1_male_train_knn = f1_scores_train_knn[0]\n",
    "f1_female_train_knn = f1_scores_train_knn[1]\n",
    "\n",
    "# Calculate average F1 score for the training set with K-nearest neighbors\n",
    "average_f1_train_knn = (f1_male_train_knn + f1_female_train_knn) / 2\n",
    "\n",
    "# Print the results for Naive Bayes\n",
    "print(\"Results for Naive Bayes:\")\n",
    "print(\"F1 Score (Validation):\", average_f1_val_nb)\n",
    "print(\"Average F1 Score (Cross-Validation):\", average_cv_f1_nb)\n",
    "print(\"F1 Score (Training):\", average_f1_train_nb)\n",
    "\n",
    "# Print the results for K-nearest neighbors\n",
    "print(\"\\nResults for K-Nearest Neighbors:\")\n",
    "print(\"F1 Score (Validation):\", average_f1_val_knn)\n",
    "print(\"Average F1 Score (Cross-Validation):\", average_cv_f1_knn)\n",
    "print(\"F1 Score (Training):\", average_f1_train_knn)\n",
    "\n"
   ]
  },
  {
   "cell_type": "code",
   "execution_count": 15,
   "metadata": {},
   "outputs": [
    {
     "name": "stdout",
     "output_type": "stream",
     "text": [
      "F1 score for Male class (Validation set): 0.5128205128205128\n",
      "F1 score for Female class (Validation set): 0.8303571428571429\n",
      "Average F1 score (Validation set): 0.9976903273826652\n",
      "\n",
      "F1 score for Male class (Training set): 0.9964664310954063\n",
      "F1 score for Female class (Training set): 0.998914223669924\n",
      "Average F1 score (Training set): 0.9976903273826652\n",
      "\n",
      "Cross-Validation F1 scores: [0.67553191 0.71889401 0.63064295 0.63541667 0.58074534 0.6875\n",
      " 0.59378734 0.45632476 0.55473098 0.79537704]\n",
      "Average Cross-Validation F1 score: 0.632895099837586\n"
     ]
    }
   ],
   "source": [
    "#Results for the validation set for Naive Bayes\n",
    "print(\"F1 score for Male class (Validation set):\", f1_male_val_nb)\n",
    "print(\"F1 score for Female class (Validation set):\", f1_female_val_nb)\n",
    "print(\"Average F1 score (Validation set):\", average_f1_train_nb)\n",
    "\n",
    "# Print the results for the training set for Naive Bayes\n",
    "print(\"\\nF1 score for Male class (Training set):\", f1_male_train_nb)\n",
    "print(\"F1 score for Female class (Training set):\", f1_female_train_nb)\n",
    "print(\"Average F1 score (Training set):\", average_f1_train_nb)\n",
    "\n",
    "#Results for cross-validation for Naive Bayes\n",
    "print(\"\\nCross-Validation F1 scores:\", cv_f1_scores_nb)\n",
    "print(\"Average Cross-Validation F1 score:\", average_cv_f1_nb)\n",
    "\n"
   ]
  },
  {
   "cell_type": "code",
   "execution_count": 16,
   "metadata": {},
   "outputs": [
    {
     "name": "stdout",
     "output_type": "stream",
     "text": [
      "Requirement already satisfied: matplotlib in g:\\users\\aryel\\anaconda3\\lib\\site-packages (3.4.3)\n",
      "Requirement already satisfied: pillow>=6.2.0 in g:\\users\\aryel\\anaconda3\\lib\\site-packages (from matplotlib) (8.4.0)\n",
      "Requirement already satisfied: python-dateutil>=2.7 in g:\\users\\aryel\\anaconda3\\lib\\site-packages (from matplotlib) (2.8.2)\n",
      "Requirement already satisfied: numpy>=1.16 in g:\\users\\aryel\\anaconda3\\lib\\site-packages (from matplotlib) (1.20.3)\n",
      "Requirement already satisfied: cycler>=0.10 in g:\\users\\aryel\\anaconda3\\lib\\site-packages (from matplotlib) (0.10.0)\n",
      "Requirement already satisfied: kiwisolver>=1.0.1 in g:\\users\\aryel\\anaconda3\\lib\\site-packages (from matplotlib) (1.3.1)\n",
      "Requirement already satisfied: pyparsing>=2.2.1 in g:\\users\\aryel\\anaconda3\\lib\\site-packages (from matplotlib) (3.0.4)\n",
      "Requirement already satisfied: six in g:\\users\\aryel\\anaconda3\\lib\\site-packages (from cycler>=0.10->matplotlib) (1.16.0)\n",
      "Note: you may need to restart the kernel to use updated packages.\n"
     ]
    }
   ],
   "source": [
    "pip install matplotlib"
   ]
  },
  {
   "cell_type": "code",
   "execution_count": 17,
   "metadata": {},
   "outputs": [
    {
     "data": {
      "text/plain": [
       "<BarContainer object of 2 artists>"
      ]
     },
     "execution_count": 17,
     "metadata": {},
     "output_type": "execute_result"
    },
    {
     "data": {
      "text/plain": [
       "<BarContainer object of 2 artists>"
      ]
     },
     "execution_count": 17,
     "metadata": {},
     "output_type": "execute_result"
    },
    {
     "data": {
      "text/plain": [
       "<BarContainer object of 2 artists>"
      ]
     },
     "execution_count": 17,
     "metadata": {},
     "output_type": "execute_result"
    },
    {
     "data": {
      "text/plain": [
       "Text(0.5, 0, 'Models')"
      ]
     },
     "execution_count": 17,
     "metadata": {},
     "output_type": "execute_result"
    },
    {
     "data": {
      "text/plain": [
       "([<matplotlib.axis.XTick at 0x240f6c9c820>,\n",
       "  <matplotlib.axis.XTick at 0x240f6c9cd60>],\n",
       " [Text(0.3, 0, 'Naive Bayes'), Text(1.3, 0, 'K-Nearest Neighbors')])"
      ]
     },
     "execution_count": 17,
     "metadata": {},
     "output_type": "execute_result"
    },
    {
     "data": {
      "text/plain": [
       "Text(0, 0.5, 'F1 Score')"
      ]
     },
     "execution_count": 17,
     "metadata": {},
     "output_type": "execute_result"
    },
    {
     "data": {
      "text/plain": [
       "Text(0.5, 1.0, 'F1 Scores for Naive Bayes and K-Nearest Neighbors')"
      ]
     },
     "execution_count": 17,
     "metadata": {},
     "output_type": "execute_result"
    },
    {
     "data": {
      "text/plain": [
       "<matplotlib.legend.Legend at 0x240fd7af550>"
      ]
     },
     "execution_count": 17,
     "metadata": {},
     "output_type": "execute_result"
    },
    {
     "data": {
      "image/png": "[encoded data removed]",
      "text/plain": [
       "<Figure size 720x432 with 1 Axes>"
      ]
     },
     "metadata": {
      "needs_background": "light"
     },
     "output_type": "display_data"
    }
   ],
   "source": [
    "\n",
    "import matplotlib.pyplot as plt\n",
    "\n",
    "# Data\n",
    "models = ['Naive Bayes', 'K-Nearest Neighbors']\n",
    "validation_scores = [average_f1_val_nb, average_f1_val_knn]\n",
    "cross_validation_scores = [average_cv_f1_nb, average_cv_f1_knn]\n",
    "training_scores = [average_f1_train_nb, average_f1_train_knn]\n",
    "\n",
    "# Create subplots\n",
    "fig, ax = plt.subplots(figsize=(10, 6))\n",
    "\n",
    "# Set width of bar\n",
    "bar_width = 0.3\n",
    "\n",
    "# Set positions of bars on x-axis\n",
    "r1 = np.arange(len(models))\n",
    "r2 = [x + bar_width for x in r1]\n",
    "r3 = [x + bar_width for x in r2]\n",
    "\n",
    "# Plot the data\n",
    "plt.bar(r1, validation_scores, color='b', width=bar_width, edgecolor='grey', label='Validation')\n",
    "plt.bar(r2, cross_validation_scores, color='g', width=bar_width, edgecolor='grey', label='Cross-Validation')\n",
    "plt.bar(r3, training_scores, color='r', width=bar_width, edgecolor='grey', label='Training')\n",
    "\n",
    "# Add labels, title, and legend\n",
    "plt.xlabel('Models', fontweight='bold')\n",
    "plt.xticks([r + bar_width for r in range(len(models))], models)\n",
    "plt.ylabel('F1 Score', fontweight='bold')\n",
    "plt.title('F1 Scores for Naive Bayes and K-Nearest Neighbors', fontweight='bold')\n",
    "plt.legend()\n",
    "\n",
    "# Show the plot\n",
    "plt.show()\n"
   ]
  },
  {
   "cell_type": "code",
   "execution_count": null,
   "metadata": {},
   "outputs": [],
   "source": []
  },
  {
   "cell_type": "code",
   "execution_count": null,
   "metadata": {},
   "outputs": [],
   "source": []
  },
  {
   "cell_type": "code",
   "execution_count": 18,
   "metadata": {},
   "outputs": [
    {
     "name": "stdout",
     "output_type": "stream",
     "text": [
      "Best K Value: k = 4\n",
      "Best Validation F1 Score: 0.49180093089867527\n",
      "Cross-Validation F1 Score for Best K: 0.5710455608531197\n"
     ]
    }
   ],
   "source": [
    "from sklearn.neighbors import KNeighborsClassifier\n",
    "from sklearn.metrics import f1_score\n",
    "from sklearn.model_selection import cross_val_score\n",
    "\n",
    "def test_k_values(X_train, y_train, X_val, y_val, k_values):\n",
    "\n",
    "    f1_scores_val = []\n",
    "    f1_scores_cv = []\n",
    "\n",
    "    for k in k_values:\n",
    "        knn_model = KNeighborsClassifier(n_neighbors=k)\n",
    "        knn_model.fit(X_train, y_train)\n",
    "\n",
    "        # Make predictions on the validation set\n",
    "        knn_val_predictions = knn_model.predict(X_val)\n",
    "\n",
    "        # Calculate F1 score for the validation set\n",
    "        f1_score_val = f1_score(y_val, knn_val_predictions, average=None)\n",
    "        average_f1_val = (f1_score_val[0] + f1_score_val[1]) / 2\n",
    "        f1_scores_val.append(average_f1_val)\n",
    "\n",
    "        # Calculate F1 scores using cross-validation\n",
    "        cv_f1_scores = custom_cross_val(knn_model, X_train, y_train, cv=10)\n",
    "        average_cv_f1 = cv_f1_scores.mean()\n",
    "        f1_scores_cv.append(average_cv_f1)\n",
    "\n",
    "    # Find the best k value based on validation F1 scores\n",
    "    best_k_index = f1_scores_val.index(max(f1_scores_val))\n",
    "    best_k = k_values[best_k_index]\n",
    "    best_f1_val = f1_scores_val[best_k_index]\n",
    "    best_f1_cv = f1_scores_cv[best_k_index]\n",
    "\n",
    "    # Print the best values\n",
    "    print(f\"Best K Value: k = {best_k}\")\n",
    "    print(f\"Best Validation F1 Score: {best_f1_val}\")\n",
    "    print(f\"Cross-Validation F1 Score for Best K: {best_f1_cv}\")\n",
    "\n",
    "    return f1_scores_val, f1_scores_cv, best_k, best_f1_val, best_f1_cv\n",
    "\n",
    "#test:\n",
    "k_values_to_test = [3,4,5, 7, 9,10,100]\n",
    "f1_scores_val, f1_scores_cv, best_k, best_f1_val, best_f1_cv = test_k_values(X_train, y_train, X_val, y_val, k_values_to_test)\n"
   ]
  },
  {
   "cell_type": "code",
   "execution_count": null,
   "metadata": {},
   "outputs": [],
   "source": [
    "\n"
   ]
  },
  {
   "cell_type": "code",
   "execution_count": null,
   "metadata": {},
   "outputs": [],
   "source": [
    "\n",
    "\n"
   ]
  },
  {
   "cell_type": "code",
   "execution_count": null,
   "metadata": {},
   "outputs": [],
   "source": []
  },
  {
   "cell_type": "code",
   "execution_count": null,
   "metadata": {},
   "outputs": [],
   "source": []
  }
 ],
 "metadata": {
  "celltoolbar": "Create Assignment",
  "kernelspec": {
   "display_name": "Python 3 (ipykernel)",
   "language": "python",
   "name": "python3"
  },
  "language_info": {
   "codemirror_mode": {
    "name": "ipython",
    "version": 3
   },
   "file_extension": ".py",
   "mimetype": "text/x-python",
   "name": "python",
   "nbconvert_exporter": "python",
   "pygments_lexer": "ipython3",
   "version": "3.9.7"
  }
 },
 "nbformat": 4,
 "nbformat_minor": 4
}
